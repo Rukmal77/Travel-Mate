{
 "cells": [
  {
   "cell_type": "code",
   "execution_count": 1,
   "metadata": {
    "id": "sN3cECO2Ktul"
   },
   "outputs": [],
   "source": [
    "import pandas as pd\n",
    "from sklearn.model_selection import train_test_split\n",
    "from sklearn.ensemble import RandomForestClassifier\n",
    "from sklearn.preprocessing import OneHotEncoder, LabelEncoder, MultiLabelBinarizer\n",
    "from sklearn.multioutput import MultiOutputClassifier\n",
    "from sklearn.metrics import accuracy_score\n",
    "from sklearn.metrics.pairwise import cosine_similarity\n",
    "import joblib  # Consider using joblib for potentially better compression"
   ]
  },
  {
   "cell_type": "code",
   "execution_count": 2,
   "metadata": {
    "id": "VB8WWw6CK1vF"
   },
   "outputs": [],
   "source": [
    "# Load dataset\n",
    "df = pd.read_csv('Travelchatbots.csv')"
   ]
  },
  {
   "cell_type": "code",
   "execution_count": 3,
   "metadata": {},
   "outputs": [
    {
     "data": {
      "text/html": [
       "<div>\n",
       "<style scoped>\n",
       "    .dataframe tbody tr th:only-of-type {\n",
       "        vertical-align: middle;\n",
       "    }\n",
       "\n",
       "    .dataframe tbody tr th {\n",
       "        vertical-align: top;\n",
       "    }\n",
       "\n",
       "    .dataframe thead th {\n",
       "        text-align: right;\n",
       "    }\n",
       "</style>\n",
       "<table border=\"1\" class=\"dataframe\">\n",
       "  <thead>\n",
       "    <tr style=\"text-align: right;\">\n",
       "      <th></th>\n",
       "      <th>Provience</th>\n",
       "      <th>Location</th>\n",
       "      <th>Weather</th>\n",
       "      <th>Traveltype</th>\n",
       "      <th>Accommodation</th>\n",
       "      <th>Address</th>\n",
       "      <th>Perpersonbudget</th>\n",
       "      <th>Activities</th>\n",
       "    </tr>\n",
       "  </thead>\n",
       "  <tbody>\n",
       "    <tr>\n",
       "      <th>0</th>\n",
       "      <td>Eastern</td>\n",
       "      <td>Ampara</td>\n",
       "      <td>Hot</td>\n",
       "      <td>City life</td>\n",
       "      <td>WHITE HOUSE-AMPARA</td>\n",
       "      <td>NO 229, NEW TOWN, AMPARA</td>\n",
       "      <td>11500</td>\n",
       "      <td>4WD Tours,Safaris,Visit National Parks,Nature ...</td>\n",
       "    </tr>\n",
       "    <tr>\n",
       "      <th>1</th>\n",
       "      <td>Eastern</td>\n",
       "      <td>Ampara</td>\n",
       "      <td>Hot</td>\n",
       "      <td>City life</td>\n",
       "      <td>HIDEAWAY RESORT</td>\n",
       "      <td>ULLE, POTTUVIL</td>\n",
       "      <td>22500</td>\n",
       "      <td>4WD Tours,Safaris,Visit National Parks,Nature ...</td>\n",
       "    </tr>\n",
       "    <tr>\n",
       "      <th>2</th>\n",
       "      <td>Eastern</td>\n",
       "      <td>Ampara</td>\n",
       "      <td>Hot</td>\n",
       "      <td>City life</td>\n",
       "      <td>SUPERSTAR TOURIST INN</td>\n",
       "      <td>NO. 23/1, YARD ROAD, KALMUNAI 01</td>\n",
       "      <td>12400</td>\n",
       "      <td>4WD Tours,Safaris,Visit National Parks,Nature ...</td>\n",
       "    </tr>\n",
       "    <tr>\n",
       "      <th>3</th>\n",
       "      <td>Eastern</td>\n",
       "      <td>Ampara</td>\n",
       "      <td>Hot</td>\n",
       "      <td>City life</td>\n",
       "      <td>S.T .RAAJ RESTAURANT AND GUEST HOUSE</td>\n",
       "      <td>OLD HOSPITAL ROAD,AKKARAIPATTU-09</td>\n",
       "      <td>35000</td>\n",
       "      <td>4WD Tours,Safaris,Visit National Parks,Nature ...</td>\n",
       "    </tr>\n",
       "    <tr>\n",
       "      <th>4</th>\n",
       "      <td>Eastern</td>\n",
       "      <td>Ampara</td>\n",
       "      <td>Hot</td>\n",
       "      <td>City life</td>\n",
       "      <td>K.G.A.ARIYAWAN REST</td>\n",
       "      <td>K.P.66, 1ST AVANUE, NAWAGAMPURA,AMPARA.</td>\n",
       "      <td>25500</td>\n",
       "      <td>4WD Tours,Safaris,Visit National Parks,Nature ...</td>\n",
       "    </tr>\n",
       "  </tbody>\n",
       "</table>\n",
       "</div>"
      ],
      "text/plain": [
       "  Provience Location Weather Traveltype                         Accommodation  \\\n",
       "0   Eastern   Ampara     Hot  City life                    WHITE HOUSE-AMPARA   \n",
       "1   Eastern   Ampara     Hot  City life                       HIDEAWAY RESORT   \n",
       "2   Eastern   Ampara     Hot  City life                 SUPERSTAR TOURIST INN   \n",
       "3   Eastern   Ampara     Hot  City life  S.T .RAAJ RESTAURANT AND GUEST HOUSE   \n",
       "4   Eastern   Ampara     Hot  City life                   K.G.A.ARIYAWAN REST   \n",
       "\n",
       "                                   Address  Perpersonbudget  \\\n",
       "0                 NO 229, NEW TOWN, AMPARA            11500   \n",
       "1                           ULLE, POTTUVIL            22500   \n",
       "2         NO. 23/1, YARD ROAD, KALMUNAI 01            12400   \n",
       "3        OLD HOSPITAL ROAD,AKKARAIPATTU-09            35000   \n",
       "4  K.P.66, 1ST AVANUE, NAWAGAMPURA,AMPARA.            25500   \n",
       "\n",
       "                                          Activities  \n",
       "0  4WD Tours,Safaris,Visit National Parks,Nature ...  \n",
       "1  4WD Tours,Safaris,Visit National Parks,Nature ...  \n",
       "2  4WD Tours,Safaris,Visit National Parks,Nature ...  \n",
       "3  4WD Tours,Safaris,Visit National Parks,Nature ...  \n",
       "4  4WD Tours,Safaris,Visit National Parks,Nature ...  "
      ]
     },
     "execution_count": 3,
     "metadata": {},
     "output_type": "execute_result"
    }
   ],
   "source": [
    "df.head()"
   ]
  },
  {
   "cell_type": "code",
   "execution_count": 4,
   "metadata": {
    "colab": {
     "base_uri": "https://localhost:8080/"
    },
    "id": "UFFzf2tF7d3P",
    "outputId": "25bebdb8-fad7-4d3b-e3b7-e9f24165cef1"
   },
   "outputs": [
    {
     "name": "stdout",
     "output_type": "stream",
     "text": [
      "['Breeze', 'Cold', 'Extreme Cold', 'Extreme hot', 'Hot']\n"
     ]
    }
   ],
   "source": [
    "# Find unique values in the 'Weather' column and sort them\n",
    "unique_weather_sorted = sorted(df['Weather'].unique())\n",
    "\n",
    "# Display the unique values\n",
    "print(unique_weather_sorted)\n"
   ]
  },
  {
   "cell_type": "code",
   "execution_count": 5,
   "metadata": {
    "colab": {
     "base_uri": "https://localhost:8080/"
    },
    "id": "RX3CuufT7gNR",
    "outputId": "065d1f35-15ea-4233-9f56-7cf07f283e3a"
   },
   "outputs": [
    {
     "name": "stdout",
     "output_type": "stream",
     "text": [
      "['Ampara', 'Anuradhapura', 'Badulla', 'Batticaloa', 'Colombo', 'Galle', 'Gampaha', 'Hambantota', 'Jaffna', 'Kalutara', 'Kandy', 'Kegalle', 'Kilinochchi', 'Kurunegala', 'Mannar', 'Matale', 'Matara', 'Moneragala', 'Mullaitivu', 'Nuwara Eliya', 'Polonnaruwa', 'Puttalam', 'Ratnapura', 'Trincomalee', 'Vavuniya']\n"
     ]
    }
   ],
   "source": [
    "# Find unique values in the 'Weather' column and sort them\n",
    "unique_Location_sorted = sorted(df['Location'].unique())\n",
    "\n",
    "# Display the unique values\n",
    "print(unique_Location_sorted)\n"
   ]
  },
  {
   "cell_type": "code",
   "execution_count": 6,
   "metadata": {
    "colab": {
     "base_uri": "https://localhost:8080/"
    },
    "id": "MrdCEF1n7hDI",
    "outputId": "df1a57cd-d2b7-4001-846f-4679b797e697"
   },
   "outputs": [
    {
     "name": "stdout",
     "output_type": "stream",
     "text": [
      "['Adventure and outdoors', 'City life', 'Cultural', 'Relaxing', 'Spiritual']\n"
     ]
    }
   ],
   "source": [
    "# Find unique values in the 'Weather' column and sort them\n",
    "unique_Traveltype_sorted = sorted(df['Traveltype'].unique())\n",
    "\n",
    "# Display the unique values\n",
    "print(unique_Traveltype_sorted)\n"
   ]
  },
  {
   "cell_type": "code",
   "execution_count": 7,
   "metadata": {
    "colab": {
     "base_uri": "https://localhost:8080/"
    },
    "id": "n48mV9e4R_1O",
    "outputId": "71796307-85c9-498c-a0d0-ffe947dca5b4"
   },
   "outputs": [
    {
     "name": "stderr",
     "output_type": "stream",
     "text": [
      "D:\\Anaconda\\Lib\\site-packages\\sklearn\\preprocessing\\_encoders.py:868: FutureWarning: `sparse` was renamed to `sparse_output` in version 1.2 and will be removed in 1.4. `sparse_output` is ignored unless you leave `sparse` to its default value.\n",
      "  warnings.warn(\n"
     ]
    },
    {
     "name": "stdout",
     "output_type": "stream",
     "text": [
      "Average Accuracy: 0.8901\n",
      "Model saved travel_chatbot_model.pkl\n",
      "Recommendation 1:\n",
      "Location: Ampara\n",
      "Accommodation: BALAJI OCEAN VIEW\n",
      "Address: MAIN STREET,ARUGAMBAY,POTTUVIL.\n",
      "Activities: 4WD Tours,Safaris,Visit National Parks,Nature and Wildlife Tours\n",
      "\n",
      "\n",
      "Recommendation 2:\n",
      "Location: Ampara\n",
      "Accommodation: TSUNAMI HOTEL\n",
      "Address: ARUGAMBAY,ULLE,POTHUWIL\n",
      "Activities: 4WD Tours,Safaris,Visit National Parks,Nature and Wildlife Tours\n",
      "\n",
      "\n",
      "Recommendation 3:\n",
      "Location: Ampara\n",
      "Accommodation: WHITE HOUSE-AMPARA\n",
      "Address: NO 229, NEW TOWN, AMPARA\n",
      "Activities: 4WD Tours,Safaris,Visit National Parks,Nature and Wildlife Tours\n",
      "\n",
      "\n",
      "Recommendation 4:\n",
      "Location: Puttalam\n",
      "Accommodation: DINUDA RESORT\n",
      "Address: PUDUKUDUERIPPU, SETHAWADI, KALPITIYA\n",
      "Activities: Visit the Famous Munneswaram Hindu Temple,Visit the Famous Munneswaram Hindu Temple,Visit the Kite Center,Visit St. Anne’s Church,Go on a Safari in Wilpattu National Park,Explore Margarita Village\n",
      "\n",
      "\n",
      "Recommendation 5:\n",
      "Location: Puttalam\n",
      "Accommodation: CLUB HOTEL DOLPHIN\n",
      "Address: KAMMAL SOUTH, WAIKKAL\n",
      "Activities: Visit the Famous Munneswaram Hindu Temple,Visit the Famous Munneswaram Hindu Temple,Visit the Kite Center,Visit St. Anne’s Church,Go on a Safari in Wilpattu National Park,Explore Margarita Village\n",
      "\n",
      "\n"
     ]
    },
    {
     "name": "stderr",
     "output_type": "stream",
     "text": [
      "D:\\Anaconda\\Lib\\site-packages\\sklearn\\base.py:439: UserWarning: X does not have valid feature names, but OneHotEncoder was fitted with feature names\n",
      "  warnings.warn(\n"
     ]
    }
   ],
   "source": [
    "# Preprocessing\n",
    "encoder = OneHotEncoder(sparse=False)\n",
    "le_location = LabelEncoder()\n",
    "le_accommodation = LabelEncoder()\n",
    "le_address = LabelEncoder()\n",
    "mlb_activities = MultiLabelBinarizer()\n",
    "\n",
    "# Encode features\n",
    "df['Location_encoded'] = le_location.fit_transform(df['Location'])\n",
    "df['Accommodation_encoded'] = le_accommodation.fit_transform(df['Accommodation'])\n",
    "df['Address_encoded'] = le_address.fit_transform(df['Address'])\n",
    "\n",
    "# Split Activities by commas and apply MultiLabelBinarizer\n",
    "df['Activities'] = df['Activities'].apply(lambda x: x.split(', '))\n",
    "activities_encoded = mlb_activities.fit_transform(df['Activities'])\n",
    "\n",
    "# Encode Weather, Traveltype, and Perpersonbudget\n",
    "X_basic = df[['Weather', 'Traveltype', 'Perpersonbudget']]\n",
    "X_encoded = encoder.fit_transform(X_basic)\n",
    "\n",
    "# Combine basic encoded features\n",
    "X_final = pd.DataFrame(X_encoded)\n",
    "\n",
    "# Target Variables (Including Activities as an output)\n",
    "y = pd.concat([df[['Location_encoded', 'Accommodation_encoded', 'Address_encoded']], pd.DataFrame(activities_encoded)], axis=1)\n",
    "\n",
    "# Train-Test Split\n",
    "X_train, X_test, y_train, y_test = train_test_split(X_final, y, test_size=0.2, random_state=42)\n",
    "\n",
    "# Random Forest for Multi-Output (consider using more trees or different parameters)\n",
    "clf = MultiOutputClassifier(RandomForestClassifier(n_estimators=100, max_depth=10, random_state=42))\n",
    "clf.fit(X_train, y_train)\n",
    "\n",
    "# Predict on the test set\n",
    "y_pred = clf.predict(X_test)\n",
    "\n",
    "# Calculate accuracy for each output\n",
    "accuracies = [accuracy_score(y_test.iloc[:, i], y_pred[:, i]) for i in range(y_test.shape[1])]\n",
    "average_accuracy = sum(accuracies) / len(accuracies)\n",
    "print(f'Average Accuracy: {average_accuracy:.4f}')\n",
    "\n",
    "# Save the model to a pickle file using joblib for better compression\n",
    "joblib.dump(clf, 'C:/Users/Dell/Desktop/jupiter projects/Travel/travel_chatbot_model.pkl')\n",
    "print(\"Model saved travel_chatbot_model.pkl\")\n",
    "\n",
    "# Recommendation Function\n",
    "def recommend(user_input, num_recommendations=5):\n",
    "    # Prepare user input (basic features)\n",
    "    user_input_basic = [user_input[:3]]  # ['Hot', 'City life', 15000]\n",
    "\n",
    "    # Encode user input\n",
    "    user_input_basic_encoded = encoder.transform(user_input_basic)\n",
    "\n",
    "    # Compute similarity between user input and dataset\n",
    "    similarity_scores = cosine_similarity(user_input_basic_encoded, X_final).flatten()\n",
    "\n",
    "    # Get top N most similar rows\n",
    "    top_indices = similarity_scores.argsort()[-num_recommendations:][::-1]\n",
    "\n",
    "    # Get recommendations\n",
    "    recommendations = df.iloc[top_indices]\n",
    "\n",
    "    # Decode the recommendations for display\n",
    "    results = []\n",
    "    for index, row in recommendations.iterrows():\n",
    "        location_pred = le_location.inverse_transform([row['Location_encoded']])[0]\n",
    "        accommodation_pred = le_accommodation.inverse_transform([row['Accommodation_encoded']])[0]\n",
    "        address_pred = le_address.inverse_transform([row['Address_encoded']])[0]\n",
    "\n",
    "        # Fix: Pass a proper 2D array for inverse_transform\n",
    "        activity_encoded = y.iloc[index, 3:].values.reshape(1, -1)  # Convert to 2D array\n",
    "        activities_pred = mlb_activities.inverse_transform(activity_encoded)[0]  # Decode activities\n",
    "\n",
    "        results.append({\n",
    "            'Location': location_pred,\n",
    "            'Accommodation': accommodation_pred,\n",
    "            'Address': address_pred,\n",
    "            'Activities': ', '.join(activities_pred),\n",
    "            'Similarity Score': similarity_scores[index]\n",
    "        })\n",
    "\n",
    "    return results\n",
    "\n",
    "# Example user input (adjust as needed)\n",
    "user_input = ['Hot', 'City life', 13100]\n",
    "\n",
    "# Get 5 recommendations\n",
    "recommendations = recommend(user_input, num_recommendations=5)\n",
    "\n",
    "# Display results\n",
    "for i, rec in enumerate(recommendations, 1):\n",
    "    print(f\"Recommendation {i}:\")\n",
    "    print(f\"Location: {rec['Location']}\")\n",
    "    print(f\"Accommodation: {rec['Accommodation']}\")\n",
    "    print(f\"Address: {rec['Address']}\")\n",
    "    print(f\"Activities: {rec['Activities']}\")\n",
    "   # print(f\"Similarity Score: {rec['Similarity Score']}\")\n",
    "    print(\"\\n\")\n"
   ]
  }
 ],
 "metadata": {
  "colab": {
   "provenance": []
  },
  "kernelspec": {
   "display_name": "Python 3 (ipykernel)",
   "language": "python",
   "name": "python3"
  },
  "language_info": {
   "codemirror_mode": {
    "name": "ipython",
    "version": 3
   },
   "file_extension": ".py",
   "mimetype": "text/x-python",
   "name": "python",
   "nbconvert_exporter": "python",
   "pygments_lexer": "ipython3",
   "version": "3.11.7"
  }
 },
 "nbformat": 4,
 "nbformat_minor": 4
}
